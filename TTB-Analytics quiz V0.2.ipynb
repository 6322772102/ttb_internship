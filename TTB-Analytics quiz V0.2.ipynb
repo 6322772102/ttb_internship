{
 "cells": [
  {
   "cell_type": "markdown",
   "id": "99266f81",
   "metadata": {},
   "source": [
    "# Question 2\n",
    " - Dataset B : Customer Data and Revenue (45,000 customers)\n",
    " - Please provide comments at each step in your source code"
   ]
  },
  {
   "cell_type": "markdown",
   "id": "c2660894",
   "metadata": {},
   "source": [
    "### Data Preparation"
   ]
  },
  {
   "cell_type": "code",
   "execution_count": null,
   "id": "5a2fdb95",
   "metadata": {},
   "outputs": [],
   "source": [
    "import pandas as pd\n",
    "import numpy as np\n",
    "import sklearn\n",
    "#Note: Candidate can import additional modules as necessary\n",
    "\n"
   ]
  },
  {
   "cell_type": "code",
   "execution_count": null,
   "id": "529a002d",
   "metadata": {},
   "outputs": [],
   "source": [
    "#Read data from file\n",
    "filename = 'DatasetB.csv'\n",
    "df = pd.read_csv(filename)"
   ]
  },
  {
   "cell_type": "code",
   "execution_count": null,
   "id": "1c165f72",
   "metadata": {},
   "outputs": [],
   "source": [
    "#Write your code here.\n",
    "\n",
    "\n"
   ]
  },
  {
   "cell_type": "markdown",
   "id": "c62bcc33",
   "metadata": {},
   "source": [
    "### Data Modeling\n",
    "- Explain your model and its implications.\n",
    "- Remark: DatasetB_Clean.csv is a cleaned dataset, candidate can use the dataset in case of data preparation step is not finish. However, data preparation score will be deducted"
   ]
  },
  {
   "cell_type": "code",
   "execution_count": null,
   "id": "3b9dad95",
   "metadata": {},
   "outputs": [],
   "source": [
    "#Write your code here.\n",
    "\n",
    "\n"
   ]
  },
  {
   "cell_type": "code",
   "execution_count": null,
   "id": "484b8377",
   "metadata": {},
   "outputs": [],
   "source": []
  },
  {
   "cell_type": "code",
   "execution_count": null,
   "id": "fd6cd6a3",
   "metadata": {},
   "outputs": [],
   "source": []
  },
  {
   "cell_type": "code",
   "execution_count": null,
   "id": "20d3a7fa",
   "metadata": {},
   "outputs": [],
   "source": []
  },
  {
   "cell_type": "markdown",
   "id": "94a59345",
   "metadata": {},
   "source": [
    "### Evaluation\n",
    "- Include model results and provide additional comments."
   ]
  },
  {
   "cell_type": "code",
   "execution_count": null,
   "id": "55189439",
   "metadata": {},
   "outputs": [],
   "source": [
    "#Write your code here.\n",
    "\n",
    "\n"
   ]
  },
  {
   "cell_type": "code",
   "execution_count": null,
   "id": "3680600b",
   "metadata": {},
   "outputs": [],
   "source": []
  },
  {
   "cell_type": "code",
   "execution_count": null,
   "id": "5d17fc08",
   "metadata": {},
   "outputs": [],
   "source": []
  },
  {
   "cell_type": "code",
   "execution_count": null,
   "id": "11625ede",
   "metadata": {},
   "outputs": [],
   "source": []
  },
  {
   "cell_type": "code",
   "execution_count": null,
   "id": "4032d1b6",
   "metadata": {},
   "outputs": [],
   "source": []
  }
 ],
 "metadata": {
  "kernelspec": {
   "display_name": "Python 3",
   "language": "python",
   "name": "python3"
  },
  "language_info": {
   "codemirror_mode": {
    "name": "ipython",
    "version": 3
   },
   "file_extension": ".py",
   "mimetype": "text/x-python",
   "name": "python",
   "nbconvert_exporter": "python",
   "pygments_lexer": "ipython3",
   "version": "3.7.11"
  }
 },
 "nbformat": 4,
 "nbformat_minor": 5
}
